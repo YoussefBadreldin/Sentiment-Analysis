{
 "cells": [
  {
   "cell_type": "code",
   "execution_count": 1,
   "id": "14a9237a",
   "metadata": {},
   "outputs": [],
   "source": [
    "from tkinter import *\n",
    "import joblib\n",
    "import re\n",
    "import nltk\n",
    "from nltk.corpus import stopwords\n",
    "from nltk.stem.porter import PorterStemmer"
   ]
  },
  {
   "cell_type": "code",
   "execution_count": 2,
   "id": "794ffd05",
   "metadata": {},
   "outputs": [],
   "source": [
    "cv = joblib.load(\"my_vectorizer.pkl\")\n",
    "model = joblib.load(\"my_model.pkl\")\n",
    "\n",
    "# Create a set of stopwords\n",
    "stop_words = set(stopwords.words('english'))\n",
    "\n",
    "# Create an instance of PorterStemmer\n",
    "porter = PorterStemmer()\n",
    "\n",
    "# Define a function to preprocess text data\n",
    "def preprocess_text(text):\n",
    "    # Remove special characters, punctuation, and numbers\n",
    "    text = re.sub(r'[^a-zA-Z\\s]', '', text)\n",
    "    # Convert to lowercase\n",
    "    text = text.lower()\n",
    "    # Tokenize the text\n",
    "    tokens = text.split()\n",
    "    # Remove stopwords\n",
    "    tokens = [token for token in tokens if token not in stop_words]\n",
    "    # Stem the tokens\n",
    "    stemmed_tokens = [porter.stem(token) for token in tokens]\n",
    "    # Join the stemmed tokens to form the preprocessed text\n",
    "    preprocessed_text = \" \".join(stemmed_tokens)\n",
    "    return preprocessed_text\n",
    "\n",
    "# Define a function to classify a text\n",
    "def classify_text(text):\n",
    "    # Preprocess the text\n",
    "    preprocessed_text = preprocess_text(text)\n",
    "\n",
    "    # Transform the text using the CountVectorizer object\n",
    "    X = cv.transform([preprocessed_text])\n",
    "\n",
    "    # Use the trained model to make a prediction\n",
    "    prediction = model.predict(X)\n",
    "\n",
    "    return prediction[0]"
   ]
  },
  {
   "cell_type": "code",
   "execution_count": null,
   "id": "3f883725",
   "metadata": {},
   "outputs": [],
   "source": [
    "root = Tk()\n",
    "root.title(\"US Airline Sentiment Analysis\")\n",
    "root.geometry(\"700x600\")\n",
    "\n",
    "lbl_name = Label(root, text=\"Enter Airline Name:\", font=(\"Arial\", 14))\n",
    "lbl_name.grid(row=0, column=0, padx=10, pady=10)\n",
    "\n",
    "airline_entry = Entry(root, width=40)\n",
    "airline_entry.grid(row=0, column=1, padx=10, pady=10)\n",
    "\n",
    "result_label = Label(root, text=\"\", font=(\"Arial\", 14))\n",
    "result_label.grid(row=1, column=0, columnspan=2, padx=10, pady=10)\n",
    "\n",
    "def classify_airline_sentiment():\n",
    "    airline_name = airline_entry.get()\n",
    "    if airline_name.strip() == \"\":\n",
    "        result_label.config(text=\"Please enter an airline name.\")\n",
    "        return\n",
    "    # Implement logic to get sentiment for the entered airline (You might need to modify this part)\n",
    "    # For example, you could fetch tweets mentioning the airline and analyze their sentiment\n",
    "    # For demonstration purposes, let's assume a positive sentiment for all airlines\n",
    "    sentiment = \"Positive\"\n",
    "    result_label.config(text=f\"Sentiment for {airline_name}: {sentiment}\")\n",
    "\n",
    "classify_button = Button(root, text=\"Classify\", width=10, command=classify_airline_sentiment)\n",
    "classify_button.grid(row=0, column=2, padx=10, pady=10)\n",
    "\n",
    "root.mainloop()"
   ]
  }
 ],
 "metadata": {
  "kernelspec": {
   "display_name": "Python 3 (ipykernel)",
   "language": "python",
   "name": "python3"
  },
  "language_info": {
   "codemirror_mode": {
    "name": "ipython",
    "version": 3
   },
   "file_extension": ".py",
   "mimetype": "text/x-python",
   "name": "python",
   "nbconvert_exporter": "python",
   "pygments_lexer": "ipython3",
   "version": "3.11.7"
  }
 },
 "nbformat": 4,
 "nbformat_minor": 5
}
