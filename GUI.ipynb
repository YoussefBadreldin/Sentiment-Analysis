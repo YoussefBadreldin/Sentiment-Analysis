{
 "cells": [
  {
   "cell_type": "code",
   "execution_count": 6,
   "id": "14a9237a",
   "metadata": {},
   "outputs": [
    {
     "name": "stdout",
     "output_type": "stream",
     "text": [
      "Requirement already satisfied: textblob in c:\\users\\youssef badreldin\\anaconda3\\lib\\site-packages (0.18.0.post0)\n",
      "Requirement already satisfied: nltk>=3.8 in c:\\users\\youssef badreldin\\anaconda3\\lib\\site-packages (from textblob) (3.8.1)\n",
      "Requirement already satisfied: click in c:\\users\\youssef badreldin\\anaconda3\\lib\\site-packages (from nltk>=3.8->textblob) (8.1.7)\n",
      "Requirement already satisfied: joblib in c:\\users\\youssef badreldin\\anaconda3\\lib\\site-packages (from nltk>=3.8->textblob) (1.2.0)\n",
      "Requirement already satisfied: regex>=2021.8.3 in c:\\users\\youssef badreldin\\anaconda3\\lib\\site-packages (from nltk>=3.8->textblob) (2023.10.3)\n",
      "Requirement already satisfied: tqdm in c:\\users\\youssef badreldin\\anaconda3\\lib\\site-packages (from nltk>=3.8->textblob) (4.65.0)\n",
      "Requirement already satisfied: colorama in c:\\users\\youssef badreldin\\anaconda3\\lib\\site-packages (from click->nltk>=3.8->textblob) (0.4.6)\n",
      "Note: you may need to restart the kernel to use updated packages.\n"
     ]
    }
   ],
   "source": [
    "pip install textblob"
   ]
  },
  {
   "cell_type": "code",
   "execution_count": 7,
   "id": "794ffd05",
   "metadata": {},
   "outputs": [],
   "source": [
    "import tkinter as tk\n",
    "from tkinter import ttk\n",
    "from tkinter import messagebox\n",
    "import pandas as pd\n",
    "from textblob import TextBlob\n",
    "import matplotlib.pyplot as plt\n",
    "from matplotlib.backends.backend_tkagg import FigureCanvasTkAgg\n",
    "from sklearn.feature_extraction.text import CountVectorizer\n",
    "from sklearn.linear_model import LogisticRegression\n",
    "from sklearn.metrics import accuracy_score, classification_report\n",
    "import joblib\n",
    "from collections import Counter"
   ]
  },
  {
   "cell_type": "code",
   "execution_count": 8,
   "id": "3f883725",
   "metadata": {},
   "outputs": [
    {
     "name": "stderr",
     "output_type": "stream",
     "text": [
      "[nltk_data] Downloading package punkt to C:\\Users\\Youssef\n",
      "[nltk_data]     Badreldin\\AppData\\Roaming\\nltk_data...\n",
      "[nltk_data]   Package punkt is already up-to-date!\n"
     ]
    }
   ],
   "source": [
    "import nltk\n",
    "nltk.download('punkt')\n",
    "from nltk.corpus import stopwords\n",
    "import string"
   ]
  },
  {
   "cell_type": "code",
   "execution_count": 9,
   "id": "1ec0a74e-91ce-470c-98ec-e5f99370af0a",
   "metadata": {},
   "outputs": [
    {
     "name": "stderr",
     "output_type": "stream",
     "text": [
      "[nltk_data] Downloading package brown to C:\\Users\\Youssef\n",
      "[nltk_data]     Badreldin\\AppData\\Roaming\\nltk_data...\n",
      "[nltk_data]   Package brown is already up-to-date!\n"
     ]
    },
    {
     "data": {
      "text/plain": [
       "True"
      ]
     },
     "execution_count": 9,
     "metadata": {},
     "output_type": "execute_result"
    }
   ],
   "source": [
    "import nltk\n",
    "nltk.download('brown')"
   ]
  },
  {
   "cell_type": "code",
   "execution_count": 10,
   "id": "b4b926fa-ff44-41a8-a9ff-c3dc5bcfba72",
   "metadata": {},
   "outputs": [
    {
     "ename": "TypeError",
     "evalue": "SentimentAnalyzerGUI() takes no arguments",
     "output_type": "error",
     "traceback": [
      "\u001b[1;31m---------------------------------------------------------------------------\u001b[0m",
      "\u001b[1;31mTypeError\u001b[0m                                 Traceback (most recent call last)",
      "Cell \u001b[1;32mIn[10], line 161\u001b[0m\n\u001b[0;32m    158\u001b[0m                 messagebox\u001b[38;5;241m.\u001b[39mshowerror(\u001b[38;5;124m\"\u001b[39m\u001b[38;5;124mError\u001b[39m\u001b[38;5;124m\"\u001b[39m, \u001b[38;5;124mf\u001b[39m\u001b[38;5;124m\"\u001b[39m\u001b[38;5;124mAn error occurred while saving the results: \u001b[39m\u001b[38;5;132;01m{\u001b[39;00m\u001b[38;5;28mstr\u001b[39m(e)\u001b[38;5;132;01m}\u001b[39;00m\u001b[38;5;124m\"\u001b[39m)\n\u001b[0;32m    160\u001b[0m root \u001b[38;5;241m=\u001b[39m tk\u001b[38;5;241m.\u001b[39mTk()\n\u001b[1;32m--> 161\u001b[0m app \u001b[38;5;241m=\u001b[39m SentimentAnalyzerGUI(root)\n\u001b[0;32m    162\u001b[0m root\u001b[38;5;241m.\u001b[39mmainloop()\n",
      "\u001b[1;31mTypeError\u001b[0m: SentimentAnalyzerGUI() takes no arguments"
     ]
    }
   ],
   "source": [
    "class SentimentAnalyzerGUI:\n",
    "    def _init_(self, root):\n",
    "        self.root = root\n",
    "        self.root.title(\"Sentiment Analyzer\")\n",
    "\n",
    "        self.label_airline = ttk.Label(root, text=\"Enter the name of an airline:\")\n",
    "        self.label_airline.grid(row=0, column=0, padx=10, pady=5, sticky=\"w\")\n",
    "\n",
    "        self.entry_airline = ttk.Entry(root, width=30)\n",
    "        self.entry_airline.grid(row=0, column=1, padx=10, pady=5)\n",
    "\n",
    "        self.button_analyze = ttk.Button(root, text=\"Analyze\", command=self.analyze_sentiment)\n",
    "        self.button_analyze.grid(row=0, column=2, padx=10, pady=5)\n",
    "\n",
    "        self.label_result = ttk.Label(root, text=\"\")\n",
    "        self.label_result.grid(row=1, column=0, columnspan=3, padx=10, pady=5)\n",
    "\n",
    "        self.label_info = ttk.Label(root, text=\"Additional Analysis Options:\")\n",
    "        self.label_info.grid(row=2, column=0, columnspan=3, padx=10, pady=5, sticky=\"w\")\n",
    "\n",
    "        self.button_overall_sentiment = ttk.Button(root, text=\"Overall Sentiment Trend\", command=self.show_overall_sentiment_trend)\n",
    "        self.button_overall_sentiment.grid(row=3, column=0, padx=10, pady=5, sticky=\"w\")\n",
    "\n",
    "        self.button_keywords = ttk.Button(root, text=\"Top Keywords\", command=self.show_top_keywords)\n",
    "        self.button_keywords.grid(row=3, column=1, padx=10, pady=5)\n",
    "\n",
    "        self.button_comparison = ttk.Button(root, text=\"Comparison with Competitors\", command=self.show_comparison)\n",
    "        self.button_comparison.grid(row=3, column=2, padx=10, pady=5, sticky=\"e\")\n",
    "\n",
    "        self.button_sentiment_dist = ttk.Button(root, text=\"Sentiment Distribution\", command=self.show_sentiment_distribution)\n",
    "        self.button_sentiment_dist.grid(row=4, column=0, padx=10, pady=5, sticky=\"w\")\n",
    "\n",
    "        self.button_emerging_trends = ttk.Button(root, text=\"Identify Emerging Trends\", command=self.identify_emerging_trends)\n",
    "        self.button_emerging_trends.grid(row=4, column=1, padx=10, pady=5)\n",
    "\n",
    "        self.button_save_results = ttk.Button(root, text=\"Save Results\", command=self.save_results)\n",
    "        self.button_save_results.grid(row=4, column=2, padx=10, pady=5, sticky=\"e\")\n",
    "\n",
    "        # Initialize attributes\n",
    "        self.dataset = pd.read_csv(\"Tweets.csv\")  # Change to your dataset file\n",
    "        self.vectorizer = joblib.load(\"my_vectorizer.pkl\")  # Change to your vectorizer file\n",
    "        self.model = joblib.load(\"my_model.pkl\")  # Change to your model file\n",
    "\n",
    "    def analyze_sentiment(self):\n",
    "        airline_name = self.entry_airline.get()\n",
    "        if airline_name:\n",
    "            airline_tweets = self.dataset[self.dataset[\"airline\"] == airline_name]\n",
    "            if not airline_tweets.empty:\n",
    "                tweet_texts = airline_tweets[\"text\"]\n",
    "                tweet_vectors = self.vectorizer.transform(tweet_texts)\n",
    "                predictions = self.model.predict(tweet_vectors)\n",
    "                positive_count = sum(predictions == \"positive\")\n",
    "                negative_count = sum(predictions == \"negative\")\n",
    "                neutral_count = sum(predictions == \"neutral\")\n",
    "                total_count = len(predictions)\n",
    "                positive_percentage = positive_count / total_count * 100\n",
    "                negative_percentage = negative_count / total_count * 100\n",
    "                neutral_percentage = neutral_count / total_count * 100\n",
    "                result = f\"Positive: {positive_percentage:.2f}%  Negative: {negative_percentage:.2f}%  Neutral: {neutral_percentage:.2f}%\"\n",
    "                self.label_result.config(text=result)\n",
    "            else:\n",
    "                messagebox.showerror(\"Error\", \"No tweets found for the specified airline.\")\n",
    "        else:\n",
    "            messagebox.showerror(\"Error\", \"Please enter the name of an airline.\")\n",
    "\n",
    "    def show_overall_sentiment_trend(self):\n",
    "        grouped_data = self.dataset.groupby('tweet_created')['airline_sentiment'].value_counts(normalize=True).unstack()\n",
    "\n",
    "        # Plotting\n",
    "        plt.figure(figsize=(10, 6))\n",
    "        grouped_data.plot(kind='line', marker='o', linestyle='-')\n",
    "        plt.xlabel(\"Date\")\n",
    "        plt.ylabel(\"Sentiment Proportion\")\n",
    "        plt.title(\"Overall Sentiment Trend\")\n",
    "        plt.legend(title='Sentiment')\n",
    "        plt.grid(True)\n",
    "        plt.xticks(rotation=45)\n",
    "        plt.tight_layout()\n",
    "        plt.show()\n",
    "        \n",
    "    def show_top_keywords(self):\n",
    "        # Get all tweets\n",
    "        all_tweets = ' '.join(self.dataset['text'])\n",
    "        blob = TextBlob(all_tweets)\n",
    "        # Get top 10 most common words\n",
    "        word_counts = blob.word_counts\n",
    "        top_keywords = Counter(word_counts).most_common(10)\n",
    "        top_keywords, counts = zip(*top_keywords)\n",
    "\n",
    "        # Plotting\n",
    "        plt.figure(figsize=(10, 6))\n",
    "        plt.bar(top_keywords, counts)\n",
    "        plt.xlabel(\"Keywords\")\n",
    "        plt.ylabel(\"Frequency\")\n",
    "        plt.title(\"Top Keywords\")\n",
    "        plt.xticks(rotation=45, ha='right')\n",
    "        plt.tight_layout()\n",
    "        plt.show()\n",
    "\n",
    "        # Convert top keywords to text\n",
    "        top_keywords_text = \"\\n\".join([f\"{word}: {count}\" for word, count in zip(top_keywords, counts)])\n",
    "\n",
    "        # Display top keywords in a messagebox\n",
    "        messagebox.showinfo(\"Top Keywords\", top_keywords_text)\n",
    "\n",
    "    def show_comparison(self):\n",
    "        # Group tweets by airline and calculate average sentiment\n",
    "        airline_sentiments = self.dataset.groupby('airline')['airline_sentiment'].value_counts(normalize=True).unstack()\n",
    "        airline_sentiments.plot(kind='bar', figsize=(10, 6))\n",
    "        plt.xlabel(\"Airlines\")\n",
    "        plt.ylabel(\"Sentiment Proportion\")\n",
    "        plt.title(\"Comparison with Competitors\")\n",
    "        plt.legend(title='Sentiment')\n",
    "        plt.show()\n",
    "\n",
    "    def show_sentiment_distribution(self):\n",
    "        # Calculate sentiment distribution\n",
    "        sentiment_counts = self.dataset['airline_sentiment'].value_counts(normalize=True)\n",
    "\n",
    "        # Plotting\n",
    "        plt.figure(figsize=(6, 4))\n",
    "        sentiment_counts.plot(kind='bar', color=['red', 'yellow', 'green'])\n",
    "        plt.xlabel(\"Sentiment\")\n",
    "        plt.ylabel(\"Proportion\")\n",
    "        plt.title(\"Sentiment Distribution\")\n",
    "        plt.show()\n",
    "\n",
    "    def identify_emerging_trends(self):\n",
    "        # Implement code to identify and display emerging trends or issues based on the analysis of social media posts or comments\n",
    "        if self.dataset is None:\n",
    "            messagebox.showerror(\"Error\", \"Please load a dataset first.\")\n",
    "            return\n",
    "\n",
    "        all_tweets = ' '.join(self.dataset['text'].tolist())\n",
    "        blob = TextBlob(all_tweets)\n",
    "        noun_phrases = blob.noun_phrases\n",
    "        phrase_counts = {}\n",
    "        for phrase in noun_phrases:\n",
    "            if phrase in phrase_counts:\n",
    "                phrase_counts[phrase] += 1\n",
    "            else:\n",
    "                phrase_counts[phrase] = 1\n",
    "\n",
    "        # Sort noun phrases by their occurrence count\n",
    "        sorted_phrases = sorted(phrase_counts.items(), key=lambda x: x[1], reverse=True)\n",
    "\n",
    "        # Display the top 10 noun phrases\n",
    "        result = '\\n'.join([f'{phrase}: {count}' for phrase, count in sorted_phrases[:10]])\n",
    "        messagebox.showinfo(\"Emerging Trends or Issues\", result)\n",
    "\n",
    "    def save_results(self):\n",
    "        file_path = filedialog.asksaveasfilename(defaultextension=\".csv\", filetypes=[(\"CSV files\", \"*.csv\")])\n",
    "        if file_path:\n",
    "            try:\n",
    "                self.dataset.to_csv(file_path, index=False)\n",
    "                messagebox.showinfo(\"Success\", \"Results saved successfully!\")\n",
    "            except Exception as e:\n",
    "                messagebox.showerror(\"Error\", f\"An error occurred while saving the results: {str(e)}\")\n",
    "\n",
    "root = tk.Tk()\n",
    "app = SentimentAnalyzerGUI(root)\n",
    "root.mainloop()"
   ]
  }
 ],
 "metadata": {
  "kernelspec": {
   "display_name": "Python 3 (ipykernel)",
   "language": "python",
   "name": "python3"
  },
  "language_info": {
   "codemirror_mode": {
    "name": "ipython",
    "version": 3
   },
   "file_extension": ".py",
   "mimetype": "text/x-python",
   "name": "python",
   "nbconvert_exporter": "python",
   "pygments_lexer": "ipython3",
   "version": "3.11.7"
  }
 },
 "nbformat": 4,
 "nbformat_minor": 5
}
